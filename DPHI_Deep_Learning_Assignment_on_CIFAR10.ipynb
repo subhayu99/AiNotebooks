{
  "nbformat": 4,
  "nbformat_minor": 0,
  "metadata": {
    "colab": {
      "name": "Untitled0.ipynb",
      "provenance": [],
      "collapsed_sections": [],
      "authorship_tag": "ABX9TyPrc61cjTgmJm17AdHDn6Dx",
      "include_colab_link": true
    },
    "kernelspec": {
      "name": "python3",
      "display_name": "Python 3"
    },
    "accelerator": "TPU"
  },
  "cells": [
    {
      "cell_type": "markdown",
      "metadata": {
        "id": "view-in-github",
        "colab_type": "text"
      },
      "source": [
        "<a href=\"https://colab.research.google.com/github/subhayu99/AiNotebooks/blob/master/DPHI_Deep_Learning_Assignment_on_CIFAR10.ipynb\" target=\"_parent\"><img src=\"https://colab.research.google.com/assets/colab-badge.svg\" alt=\"Open In Colab\"/></a>"
      ]
    },
    {
      "cell_type": "code",
      "metadata": {
        "id": "hn5iNtBwtsA5",
        "colab_type": "code",
        "colab": {
          "base_uri": "https://localhost:8080/",
          "height": 34
        },
        "outputId": "38b6f29d-60da-43fd-d97d-c930450c3bc6"
      },
      "source": [
        " import tensorflow as tf\n",
        "print(tf.__version__)"
      ],
      "execution_count": null,
      "outputs": [
        {
          "output_type": "stream",
          "text": [
            "2.3.0\n"
          ],
          "name": "stdout"
        }
      ]
    },
    {
      "cell_type": "code",
      "metadata": {
        "id": "tL_Wz8W4EX05",
        "colab_type": "code",
        "colab": {}
      },
      "source": [
        "import numpy as np\n",
        "import pandas as pd\n",
        "import matplotlib.pyplot as plt\n",
        "from tensorflow.keras.layers import Input, Conv2D, Dense, Flatten, Dropout, GlobalMaxPooling2D, MaxPooling2D, BatchNormalization\n",
        "from tensorflow.keras.models import Model"
      ],
      "execution_count": null,
      "outputs": []
    },
    {
      "cell_type": "code",
      "metadata": {
        "id": "dPhD4q69EceO",
        "colab_type": "code",
        "colab": {}
      },
      "source": [
        "cifar10 = tf.keras.datasets.cifar10\n",
        "(x_train, y_train), (x_test, y_test) = cifar10.load_data()\n",
        " \n",
        "#Split them into train & test\n",
        "x_train, x_test = x_train / 255.0, x_test / 255.0\n",
        "y_train, y_test = y_train.flatten(), y_test.flatten()"
      ],
      "execution_count": null,
      "outputs": []
    },
    {
      "cell_type": "code",
      "metadata": {
        "id": "hrmz5pmjEfSd",
        "colab_type": "code",
        "colab": {
          "base_uri": "https://localhost:8080/",
          "height": 51
        },
        "outputId": "8ce70f26-00cc-45e4-f321-70118e109e29"
      },
      "source": [
        "print(\"x_train.shape:\", x_train[0].shape)\n",
        "print(\"y_train.shape\", y_train.shape)"
      ],
      "execution_count": null,
      "outputs": [
        {
          "output_type": "stream",
          "text": [
            "x_train.shape: (32, 32, 3)\n",
            "y_train.shape (50000,)\n"
          ],
          "name": "stdout"
        }
      ]
    },
    {
      "cell_type": "code",
      "metadata": {
        "id": "eeE6euHInGU5",
        "colab_type": "code",
        "colab": {
          "base_uri": "https://localhost:8080/",
          "height": 34
        },
        "outputId": "1a00c922-fb53-48d9-f52c-cbbcebb4e650"
      },
      "source": [
        "new_test_data = pd.read_csv(\"https://raw.githubusercontent.com/dphi-official/Datasets/master/cifar_image_flattened_pixels.csv\")\n",
        "new_test_data = (new_test_data.to_numpy())/255.0\n",
        "new_test_data = new_test_data.reshape(2000, 32, 32, 3)\n",
        "print(\"new_test_data.shape\", new_test_data.shape)\n",
        "# print(new_test_data[0])"
      ],
      "execution_count": null,
      "outputs": [
        {
          "output_type": "stream",
          "text": [
            "new_test_data.shape (2000, 32, 32, 3)\n"
          ],
          "name": "stdout"
        }
      ]
    },
    {
      "cell_type": "code",
      "metadata": {
        "id": "22nKvb4KEiDn",
        "colab_type": "code",
        "colab": {
          "base_uri": "https://localhost:8080/",
          "height": 34
        },
        "outputId": "4f61308b-d1ba-4800-8150-fe55f4ec797d"
      },
      "source": [
        "# number of classes\n",
        "K = len(set(y_train))\n",
        "print(\"number of classes:\", K)"
      ],
      "execution_count": null,
      "outputs": [
        {
          "output_type": "stream",
          "text": [
            "number of classes: 10\n"
          ],
          "name": "stdout"
        }
      ]
    },
    {
      "cell_type": "code",
      "metadata": {
        "id": "qcgYzRlMEomq",
        "colab_type": "code",
        "colab": {}
      },
      "source": [
        "i = Input(shape=x_train[0].shape)\n",
        " \n",
        "x = Conv2D(32, (3, 3), activation='relu', padding='same')(i)\n",
        "x = BatchNormalization()(x)\n",
        "x = Conv2D(32, (3, 3), activation='relu', padding='same')(x)\n",
        "x = BatchNormalization()(x)\n",
        "x = MaxPooling2D((2, 2))(x)\n",
        " \n",
        "x = Conv2D(64, (3, 3), activation='relu', padding='same')(x)\n",
        "x = BatchNormalization()(x)\n",
        "x = Conv2D(64, (3, 3), activation='relu', padding='same')(x)\n",
        "x = BatchNormalization()(x)\n",
        "x = MaxPooling2D((2, 2))(x)\n",
        " \n",
        "x = Conv2D(128, (3, 3), activation='relu', padding='same')(x)\n",
        "x = BatchNormalization()(x)\n",
        "x = Conv2D(128, (3, 3), activation='relu', padding='same')(x)\n",
        "x = BatchNormalization()(x)\n",
        "x = MaxPooling2D((2, 2))(x)\n",
        " \n",
        "x = Flatten()(x)\n",
        "x = Dropout(0.2)(x)\n",
        "x = Dense(1024, activation='relu')(x)\n",
        "x = Dropout(0.2)(x)\n",
        "x = Dense(K, activation='softmax')(x)\n",
        " \n",
        "model = Model(i, x)"
      ],
      "execution_count": null,
      "outputs": []
    },
    {
      "cell_type": "code",
      "metadata": {
        "id": "2PkEhqGFE0S3",
        "colab_type": "code",
        "colab": {}
      },
      "source": [
        "# Note: make sure you are using the GPU for this.\n",
        "model.compile(optimizer='adam',\n",
        "              loss='sparse_categorical_crossentropy',\n",
        "              metrics=['accuracy'])"
      ],
      "execution_count": null,
      "outputs": []
    },
    {
      "cell_type": "code",
      "metadata": {
        "id": "NRo02jd5FPLT",
        "colab_type": "code",
        "colab": {
          "base_uri": "https://localhost:8080/",
          "height": 1000
        },
        "outputId": "f746c59b-8a2f-4d03-bae1-d5c49fd778c4"
      },
      "source": [
        "r = model.fit(x_train, y_train, validation_data=(x_test, y_test), epochs=50)"
      ],
      "execution_count": null,
      "outputs": [
        {
          "output_type": "stream",
          "text": [
            "Epoch 1/50\n",
            "1563/1563 [==============================] - 459s 293ms/step - loss: 1.3075 - accuracy: 0.5489 - val_loss: 1.0330 - val_accuracy: 0.6444\n",
            "Epoch 2/50\n",
            "1563/1563 [==============================] - 462s 296ms/step - loss: 0.8392 - accuracy: 0.7104 - val_loss: 0.8507 - val_accuracy: 0.7123\n",
            "Epoch 3/50\n",
            "1563/1563 [==============================] - 465s 298ms/step - loss: 0.6883 - accuracy: 0.7653 - val_loss: 0.7151 - val_accuracy: 0.7629\n",
            "Epoch 4/50\n",
            "1563/1563 [==============================] - 463s 296ms/step - loss: 0.5791 - accuracy: 0.8026 - val_loss: 0.7136 - val_accuracy: 0.7636\n",
            "Epoch 5/50\n",
            "1563/1563 [==============================] - 466s 298ms/step - loss: 0.4893 - accuracy: 0.8328 - val_loss: 0.6046 - val_accuracy: 0.7989\n",
            "Epoch 6/50\n",
            "1563/1563 [==============================] - 466s 298ms/step - loss: 0.4170 - accuracy: 0.8560 - val_loss: 0.6008 - val_accuracy: 0.8041\n",
            "Epoch 7/50\n",
            "1563/1563 [==============================] - 461s 295ms/step - loss: 0.3566 - accuracy: 0.8766 - val_loss: 0.5728 - val_accuracy: 0.8174\n",
            "Epoch 8/50\n",
            "1563/1563 [==============================] - 463s 296ms/step - loss: 0.3014 - accuracy: 0.8961 - val_loss: 0.6571 - val_accuracy: 0.8077\n",
            "Epoch 9/50\n",
            "1563/1563 [==============================] - 468s 299ms/step - loss: 0.2515 - accuracy: 0.9124 - val_loss: 0.7107 - val_accuracy: 0.8070\n",
            "Epoch 10/50\n",
            "1563/1563 [==============================] - 462s 296ms/step - loss: 0.2242 - accuracy: 0.9234 - val_loss: 0.7327 - val_accuracy: 0.7992\n",
            "Epoch 11/50\n",
            "1563/1563 [==============================] - 463s 296ms/step - loss: 0.1951 - accuracy: 0.9327 - val_loss: 0.6429 - val_accuracy: 0.8200\n",
            "Epoch 12/50\n",
            "1563/1563 [==============================] - 461s 295ms/step - loss: 0.1658 - accuracy: 0.9435 - val_loss: 0.6605 - val_accuracy: 0.8251\n",
            "Epoch 13/50\n",
            "1563/1563 [==============================] - 462s 296ms/step - loss: 0.1526 - accuracy: 0.9487 - val_loss: 0.7576 - val_accuracy: 0.8297\n",
            "Epoch 14/50\n",
            "1563/1563 [==============================] - 463s 296ms/step - loss: 0.1430 - accuracy: 0.9517 - val_loss: 0.7975 - val_accuracy: 0.8185\n",
            "Epoch 15/50\n",
            "1563/1563 [==============================] - 469s 300ms/step - loss: 0.1347 - accuracy: 0.9539 - val_loss: 0.7354 - val_accuracy: 0.8323\n",
            "Epoch 16/50\n",
            "1563/1563 [==============================] - 464s 297ms/step - loss: 0.1201 - accuracy: 0.9604 - val_loss: 0.7362 - val_accuracy: 0.8318\n",
            "Epoch 17/50\n",
            "1563/1563 [==============================] - 464s 297ms/step - loss: 0.1101 - accuracy: 0.9643 - val_loss: 0.9276 - val_accuracy: 0.7937\n",
            "Epoch 18/50\n",
            "1563/1563 [==============================] - 462s 296ms/step - loss: 0.1078 - accuracy: 0.9642 - val_loss: 0.7218 - val_accuracy: 0.8317\n",
            "Epoch 19/50\n",
            "1563/1563 [==============================] - 460s 294ms/step - loss: 0.0971 - accuracy: 0.9673 - val_loss: 0.7158 - val_accuracy: 0.8413\n",
            "Epoch 20/50\n",
            "1563/1563 [==============================] - 455s 291ms/step - loss: 0.0962 - accuracy: 0.9684 - val_loss: 0.7721 - val_accuracy: 0.8302\n",
            "Epoch 21/50\n",
            "1563/1563 [==============================] - 468s 300ms/step - loss: 0.0874 - accuracy: 0.9708 - val_loss: 0.7589 - val_accuracy: 0.8343\n",
            "Epoch 22/50\n",
            "1563/1563 [==============================] - 464s 297ms/step - loss: 0.0853 - accuracy: 0.9708 - val_loss: 0.8247 - val_accuracy: 0.8359\n",
            "Epoch 23/50\n",
            "1563/1563 [==============================] - 465s 298ms/step - loss: 0.0818 - accuracy: 0.9740 - val_loss: 0.7631 - val_accuracy: 0.8341\n",
            "Epoch 24/50\n",
            "1563/1563 [==============================] - 472s 302ms/step - loss: 0.0797 - accuracy: 0.9737 - val_loss: 0.7943 - val_accuracy: 0.8372\n",
            "Epoch 25/50\n",
            "1563/1563 [==============================] - 459s 294ms/step - loss: 0.0735 - accuracy: 0.9757 - val_loss: 0.8097 - val_accuracy: 0.8311\n",
            "Epoch 26/50\n",
            "1563/1563 [==============================] - 461s 295ms/step - loss: 0.0711 - accuracy: 0.9758 - val_loss: 0.8133 - val_accuracy: 0.8293\n",
            "Epoch 27/50\n",
            "1563/1563 [==============================] - 466s 298ms/step - loss: 0.0658 - accuracy: 0.9784 - val_loss: 0.8215 - val_accuracy: 0.8295\n",
            "Epoch 28/50\n",
            "1563/1563 [==============================] - 467s 299ms/step - loss: 0.0677 - accuracy: 0.9777 - val_loss: 0.8299 - val_accuracy: 0.8257\n",
            "Epoch 29/50\n",
            "1563/1563 [==============================] - 463s 296ms/step - loss: 0.0650 - accuracy: 0.9785 - val_loss: 0.8831 - val_accuracy: 0.8295\n",
            "Epoch 30/50\n",
            "1563/1563 [==============================] - 462s 296ms/step - loss: 0.0596 - accuracy: 0.9798 - val_loss: 0.8999 - val_accuracy: 0.8316\n",
            "Epoch 31/50\n",
            "1563/1563 [==============================] - 475s 304ms/step - loss: 0.0636 - accuracy: 0.9793 - val_loss: 0.8542 - val_accuracy: 0.8284\n",
            "Epoch 32/50\n",
            "1563/1563 [==============================] - 462s 296ms/step - loss: 0.0602 - accuracy: 0.9800 - val_loss: 0.8131 - val_accuracy: 0.8352\n",
            "Epoch 33/50\n",
            "1563/1563 [==============================] - 461s 295ms/step - loss: 0.0557 - accuracy: 0.9821 - val_loss: 0.8720 - val_accuracy: 0.8290\n",
            "Epoch 34/50\n",
            "1563/1563 [==============================] - 463s 296ms/step - loss: 0.0570 - accuracy: 0.9813 - val_loss: 0.8486 - val_accuracy: 0.8336\n",
            "Epoch 35/50\n",
            "1563/1563 [==============================] - 481s 307ms/step - loss: 0.0549 - accuracy: 0.9823 - val_loss: 0.8773 - val_accuracy: 0.8318\n",
            "Epoch 36/50\n",
            "1563/1563 [==============================] - 468s 299ms/step - loss: 0.0560 - accuracy: 0.9813 - val_loss: 0.8574 - val_accuracy: 0.8413\n",
            "Epoch 37/50\n",
            "1563/1563 [==============================] - 460s 294ms/step - loss: 0.0484 - accuracy: 0.9839 - val_loss: 0.8887 - val_accuracy: 0.8308\n",
            "Epoch 38/50\n",
            "  79/1563 [>.............................] - ETA: 6:47 - loss: 0.0362 - accuracy: 0.9885Buffered data was truncated after reaching the output size limit."
          ],
          "name": "stdout"
        }
      ]
    },
    {
      "cell_type": "code",
      "metadata": {
        "id": "HzO-IQjJ3zvd",
        "colab_type": "code",
        "colab": {}
      },
      "source": [
        "predictions = model.predict(new_test_data)\n",
        "test_data = []\n",
        "for i in range(len(predictions)):\n",
        "  # print((np.argmax(predictions[i])+1))\n",
        "  test_data.append((np.argmax(predictions[i])+1))\n",
        "test_np = np.asarray(test_data)\n",
        "test_new = pd.DataFrame(test_np.reshape(1, 2000))\n",
        "print(test_new)"
      ],
      "execution_count": null,
      "outputs": []
    },
    {
      "cell_type": "code",
      "metadata": {
        "id": "GkcD_tkX6Lo7",
        "colab_type": "code",
        "colab": {
          "base_uri": "https://localhost:8080/",
          "height": 17
        },
        "outputId": "5a601287-5e24-4771-a3d9-9b03a5990907"
      },
      "source": [
        "# To create Dataframe of predicted value with particular respective index\n",
        "#res = pd.DataFrame(predictions) #preditcions are nothing but the final predictions of your model on input features of your new unseen test data\n",
        "#res.index = test_new.index # its important for comparison. Here \"test_new\" is your new test dataset\n",
        "#res.columns = [\"prediction\"]\n",
        " \n",
        "res = test_new()\n",
        "#res.index = test_new.index\n",
        "#res.columns = [\"prediction\"]\n",
        " \n",
        "# To download the csv file locally\n",
        "from google.colab import files\n",
        "res.to_csv('prediction_results.csv')         \n",
        "files.download('prediction_results.csv')"
      ],
      "execution_count": 150,
      "outputs": [
        {
          "output_type": "display_data",
          "data": {
            "application/javascript": [
              "\n",
              "    async function download(id, filename, size) {\n",
              "      if (!google.colab.kernel.accessAllowed) {\n",
              "        return;\n",
              "      }\n",
              "      const div = document.createElement('div');\n",
              "      const label = document.createElement('label');\n",
              "      label.textContent = `Downloading \"${filename}\": `;\n",
              "      div.appendChild(label);\n",
              "      const progress = document.createElement('progress');\n",
              "      progress.max = size;\n",
              "      div.appendChild(progress);\n",
              "      document.body.appendChild(div);\n",
              "\n",
              "      const buffers = [];\n",
              "      let downloaded = 0;\n",
              "\n",
              "      const channel = await google.colab.kernel.comms.open(id);\n",
              "      // Send a message to notify the kernel that we're ready.\n",
              "      channel.send({})\n",
              "\n",
              "      for await (const message of channel.messages) {\n",
              "        // Send a message to notify the kernel that we're ready.\n",
              "        channel.send({})\n",
              "        if (message.buffers) {\n",
              "          for (const buffer of message.buffers) {\n",
              "            buffers.push(buffer);\n",
              "            downloaded += buffer.byteLength;\n",
              "            progress.value = downloaded;\n",
              "          }\n",
              "        }\n",
              "      }\n",
              "      const blob = new Blob(buffers, {type: 'application/binary'});\n",
              "      const a = document.createElement('a');\n",
              "      a.href = window.URL.createObjectURL(blob);\n",
              "      a.download = filename;\n",
              "      div.appendChild(a);\n",
              "      a.click();\n",
              "      div.remove();\n",
              "    }\n",
              "  "
            ],
            "text/plain": [
              "<IPython.core.display.Javascript object>"
            ]
          },
          "metadata": {
            "tags": []
          }
        },
        {
          "output_type": "display_data",
          "data": {
            "application/javascript": [
              "download(\"download_9d6e0c97-bf56-40b9-90c5-7cc33424c2f0\", \"prediction_results.csv\", 13095)"
            ],
            "text/plain": [
              "<IPython.core.display.Javascript object>"
            ]
          },
          "metadata": {
            "tags": []
          }
        }
      ]
    }
  ]
}